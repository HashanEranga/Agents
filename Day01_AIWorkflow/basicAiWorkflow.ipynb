{
 "cells": [
  {
   "cell_type": "code",
   "execution_count": 2,
   "id": "0b0c47c3",
   "metadata": {},
   "outputs": [],
   "source": [
    "# import env\n",
    "from dotenv import load_dotenv\n"
   ]
  },
  {
   "cell_type": "code",
   "execution_count": 3,
   "id": "df06c6a8",
   "metadata": {},
   "outputs": [
    {
     "data": {
      "text/plain": [
       "True"
      ]
     },
     "execution_count": 3,
     "metadata": {},
     "output_type": "execute_result"
    }
   ],
   "source": [
    "# load env when override is true. So that it can be used in the notebook\n",
    "load_dotenv(override=True)"
   ]
  },
  {
   "cell_type": "code",
   "execution_count": 4,
   "id": "0f02b9b0",
   "metadata": {},
   "outputs": [
    {
     "name": "stdout",
     "output_type": "stream",
     "text": [
      "OPENAI_API_KEY is set\n"
     ]
    }
   ],
   "source": [
    "import os\n",
    "openai_api_key = os.getenv(\"OPENAI_API_KEY\")\n",
    "\n",
    "if openai_api_key:\n",
    "    print(\"OPENAI_API_KEY is set\")\n",
    "else:\n",
    "    print(\"OPENAI_API_KEY is not set\")"
   ]
  },
  {
   "cell_type": "code",
   "execution_count": 7,
   "id": "66eaf4a7",
   "metadata": {},
   "outputs": [],
   "source": [
    "# import openai\n",
    "from openai import OpenAI\n"
   ]
  },
  {
   "cell_type": "code",
   "execution_count": 10,
   "id": "dcb91546",
   "metadata": {},
   "outputs": [],
   "source": [
    "# instantiate openai client\n",
    "openai = OpenAI()"
   ]
  },
  {
   "cell_type": "code",
   "execution_count": 11,
   "id": "e65fb0f7",
   "metadata": {},
   "outputs": [],
   "source": [
    "# openai message format\n",
    "\n",
    "messages = [{\"role\": \"user\", \"content\": \"What is 2+2?\"}]"
   ]
  },
  {
   "cell_type": "code",
   "execution_count": 12,
   "id": "33634e0c",
   "metadata": {},
   "outputs": [
    {
     "name": "stdout",
     "output_type": "stream",
     "text": [
      "2 + 2 equals 4.\n"
     ]
    }
   ],
   "source": [
    "response = openai.chat.completions.create(\n",
    "    model=\"gpt-4o-mini\",\n",
    "    messages=messages\n",
    ")\n",
    "\n",
    "print(response.choices[0].message.content)"
   ]
  },
  {
   "cell_type": "code",
   "execution_count": 13,
   "id": "dd570646",
   "metadata": {},
   "outputs": [],
   "source": [
    "# And now - let's ask for a question:\n",
    "\n",
    "question = \"Ask hard question regarding data structures and algorithms that evaluates the knowledge of a interviewee. Respond only with the question.\"\n",
    "messages = [{\"role\": \"user\", \"content\": question}]\n"
   ]
  },
  {
   "cell_type": "code",
   "execution_count": 14,
   "id": "f6a709a2",
   "metadata": {},
   "outputs": [
    {
     "name": "stdout",
     "output_type": "stream",
     "text": [
      "Explain the difference between breadth-first search (BFS) and depth-first search (DFS) in terms of their implementation, time complexity, and space complexity. Additionally, provide a scenario where one would be preferred over the other, and justify your choice.\n"
     ]
    }
   ],
   "source": [
    "response = openai.chat.completions.create(\n",
    "    model=\"gpt-4o-mini\",\n",
    "    messages=messages\n",
    ")\n",
    "\n",
    "question = response.choices[0].message.content\n",
    "\n",
    "print(question)"
   ]
  },
  {
   "cell_type": "code",
   "execution_count": 15,
   "id": "8546170e",
   "metadata": {},
   "outputs": [],
   "source": [
    "messages = [{\"role\": \"user\", \"content\": question}]"
   ]
  },
  {
   "cell_type": "code",
   "execution_count": 16,
   "id": "074f9e9d",
   "metadata": {},
   "outputs": [
    {
     "name": "stdout",
     "output_type": "stream",
     "text": [
      "Breadth-First Search (BFS) and Depth-First Search (DFS) are two fundamental algorithms used for traversing or searching through graph or tree data structures. They differ in their approach, implementation techniques, time complexity, space complexity, and suitability for certain scenarios. Here's a detailed comparison:\n",
      "\n",
      "### Implementation\n",
      "\n",
      "- **BFS:**\n",
      "  - **Approach:** BFS explores neighbors of a node before moving on to the next level. It uses a queue data structure to keep track of nodes to be explored.\n",
      "  - **Implementation:**\n",
      "    ```python\n",
      "    from collections import deque\n",
      "\n",
      "    def bfs(graph, start):\n",
      "        visited = set()\n",
      "        queue = deque([start])\n",
      "\n",
      "        while queue:\n",
      "            node = queue.popleft()\n",
      "            if node not in visited:\n",
      "                visited.add(node)\n",
      "                # Process the node (e.g., print it)\n",
      "                print(node)\n",
      "                queue.extend(neighbor for neighbor in graph[node] if neighbor not in visited)\n",
      "    ```\n",
      "  \n",
      "- **DFS:**\n",
      "  - **Approach:** DFS follows a path to the end before backtracking and exploring other paths. It can be implemented using a recursive approach or an explicit stack.\n",
      "  - **Implementation (using recursion):**\n",
      "    ```python\n",
      "    def dfs(graph, node, visited=None):\n",
      "        if visited is None:\n",
      "            visited = set()\n",
      "        if node not in visited:\n",
      "            visited.add(node)\n",
      "            # Process the node (e.g., print it)\n",
      "            print(node)\n",
      "            for neighbor in graph[node]:\n",
      "                dfs(graph, neighbor, visited)\n",
      "    ```\n",
      "\n",
      "### Time Complexity\n",
      "\n",
      "- **BFS:** \n",
      "  - O(V + E), where V is the number of vertices and E is the number of edges. BFS needs to explore each vertex and edge in the worst case.\n",
      "  \n",
      "- **DFS:** \n",
      "  - O(V + E), similar to BFS, as it also needs to explore each vertex and edge in the worst case.\n",
      "\n",
      "### Space Complexity\n",
      "\n",
      "- **BFS:**\n",
      "  - O(V), where V is the maximum number of vertices that can be stored in the queue at one time. In the worst case, this can be half of all nodes if a wide branching graph is present.\n",
      "  \n",
      "- **DFS:**\n",
      "  - O(h), where h is the maximum depth of the recursion stack or the explicit stack used for the traversal. In the worst case, this can be O(V) for a very unbalanced tree or very deep graph.\n",
      "\n",
      "### Scenario Preference\n",
      "\n",
      "**When to Use BFS:**\n",
      "- **Finding the shortest path:** BFS is better suited when you need to find the shortest path in an unweighted graph. Since BFS explores all neighbors at the present \"depth\" before moving on to nodes at the next depth level, it guarantees the shortest path for unweighted graphs.\n",
      "  \n",
      "**Example:** Suppose you are modeling a social network and want to find the shortest connection between two users (e.g., degrees of separation). BFS would efficiently find the shortest path or minimum degree of separation.\n",
      "\n",
      "**When to Use DFS:**\n",
      "- **Pathfinding in deeper trees:** DFS can be more memory-efficient in scenarios with deep trees since it explores down each branch as far as possible before backtracking. It if you are interested in exploring all paths or require solutions to problems like topological sorting or solving puzzles (like mazes), DFS might be the way to go.\n",
      "\n",
      "**Example:** If you want to check all possible configurations in a puzzle game or solve a maze, DFS would explore each possible route until it finds a solution or exhausts all possibilities.\n",
      "\n",
      "### Justification of Choice\n",
      "\n",
      "Choosing between BFS and DFS boils down to the specific requirements of the problem. Use BFS for scenarios needing the shortest path in unweighted graphs, and use DFS for cases where memory efficiency might be valued, or where exhaustive search is acceptable or necessary.\n"
     ]
    }
   ],
   "source": [
    "response = openai.chat.completions.create(\n",
    "    model=\"gpt-4o-mini\",\n",
    "    messages=messages\n",
    ")\n",
    "\n",
    "answer = response.choices[0].message.content\n",
    "\n",
    "print(answer)\n"
   ]
  },
  {
   "cell_type": "code",
   "execution_count": 17,
   "id": "37df1b93",
   "metadata": {},
   "outputs": [
    {
     "data": {
      "text/markdown": [
       "Explain the difference between breadth-first search (BFS) and depth-first search (DFS) in terms of their implementation, time complexity, and space complexity. Additionally, provide a scenario where one would be preferred over the other, and justify your choice."
      ],
      "text/plain": [
       "<IPython.core.display.Markdown object>"
      ]
     },
     "metadata": {},
     "output_type": "display_data"
    },
    {
     "data": {
      "text/markdown": [
       "Breadth-First Search (BFS) and Depth-First Search (DFS) are two fundamental algorithms used for traversing or searching through graph or tree data structures. They differ in their approach, implementation techniques, time complexity, space complexity, and suitability for certain scenarios. Here's a detailed comparison:\n",
       "\n",
       "### Implementation\n",
       "\n",
       "- **BFS:**\n",
       "  - **Approach:** BFS explores neighbors of a node before moving on to the next level. It uses a queue data structure to keep track of nodes to be explored.\n",
       "  - **Implementation:**\n",
       "    ```python\n",
       "    from collections import deque\n",
       "\n",
       "    def bfs(graph, start):\n",
       "        visited = set()\n",
       "        queue = deque([start])\n",
       "\n",
       "        while queue:\n",
       "            node = queue.popleft()\n",
       "            if node not in visited:\n",
       "                visited.add(node)\n",
       "                # Process the node (e.g., print it)\n",
       "                print(node)\n",
       "                queue.extend(neighbor for neighbor in graph[node] if neighbor not in visited)\n",
       "    ```\n",
       "  \n",
       "- **DFS:**\n",
       "  - **Approach:** DFS follows a path to the end before backtracking and exploring other paths. It can be implemented using a recursive approach or an explicit stack.\n",
       "  - **Implementation (using recursion):**\n",
       "    ```python\n",
       "    def dfs(graph, node, visited=None):\n",
       "        if visited is None:\n",
       "            visited = set()\n",
       "        if node not in visited:\n",
       "            visited.add(node)\n",
       "            # Process the node (e.g., print it)\n",
       "            print(node)\n",
       "            for neighbor in graph[node]:\n",
       "                dfs(graph, neighbor, visited)\n",
       "    ```\n",
       "\n",
       "### Time Complexity\n",
       "\n",
       "- **BFS:** \n",
       "  - O(V + E), where V is the number of vertices and E is the number of edges. BFS needs to explore each vertex and edge in the worst case.\n",
       "  \n",
       "- **DFS:** \n",
       "  - O(V + E), similar to BFS, as it also needs to explore each vertex and edge in the worst case.\n",
       "\n",
       "### Space Complexity\n",
       "\n",
       "- **BFS:**\n",
       "  - O(V), where V is the maximum number of vertices that can be stored in the queue at one time. In the worst case, this can be half of all nodes if a wide branching graph is present.\n",
       "  \n",
       "- **DFS:**\n",
       "  - O(h), where h is the maximum depth of the recursion stack or the explicit stack used for the traversal. In the worst case, this can be O(V) for a very unbalanced tree or very deep graph.\n",
       "\n",
       "### Scenario Preference\n",
       "\n",
       "**When to Use BFS:**\n",
       "- **Finding the shortest path:** BFS is better suited when you need to find the shortest path in an unweighted graph. Since BFS explores all neighbors at the present \"depth\" before moving on to nodes at the next depth level, it guarantees the shortest path for unweighted graphs.\n",
       "  \n",
       "**Example:** Suppose you are modeling a social network and want to find the shortest connection between two users (e.g., degrees of separation). BFS would efficiently find the shortest path or minimum degree of separation.\n",
       "\n",
       "**When to Use DFS:**\n",
       "- **Pathfinding in deeper trees:** DFS can be more memory-efficient in scenarios with deep trees since it explores down each branch as far as possible before backtracking. It if you are interested in exploring all paths or require solutions to problems like topological sorting or solving puzzles (like mazes), DFS might be the way to go.\n",
       "\n",
       "**Example:** If you want to check all possible configurations in a puzzle game or solve a maze, DFS would explore each possible route until it finds a solution or exhausts all possibilities.\n",
       "\n",
       "### Justification of Choice\n",
       "\n",
       "Choosing between BFS and DFS boils down to the specific requirements of the problem. Use BFS for scenarios needing the shortest path in unweighted graphs, and use DFS for cases where memory efficiency might be valued, or where exhaustive search is acceptable or necessary."
      ],
      "text/plain": [
       "<IPython.core.display.Markdown object>"
      ]
     },
     "metadata": {},
     "output_type": "display_data"
    }
   ],
   "source": [
    "from IPython.display import Markdown, display\n",
    "\n",
    "display(Markdown(question))\n",
    "\n",
    "display(Markdown(answer))"
   ]
  }
 ],
 "metadata": {
  "kernelspec": {
   "display_name": ".venv",
   "language": "python",
   "name": "python3"
  },
  "language_info": {
   "codemirror_mode": {
    "name": "ipython",
    "version": 3
   },
   "file_extension": ".py",
   "mimetype": "text/x-python",
   "name": "python",
   "nbconvert_exporter": "python",
   "pygments_lexer": "ipython3",
   "version": "3.13.7"
  }
 },
 "nbformat": 4,
 "nbformat_minor": 5
}
