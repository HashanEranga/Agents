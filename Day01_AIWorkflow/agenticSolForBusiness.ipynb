{
 "cells": [
  {
   "cell_type": "code",
   "execution_count": 7,
   "id": "cc7d080c",
   "metadata": {},
   "outputs": [],
   "source": [
    "import os\n",
    "from dotenv import load_dotenv\n",
    "from IPython.display import display, Markdown\n",
    "from openai import OpenAI"
   ]
  },
  {
   "cell_type": "code",
   "execution_count": 16,
   "id": "ee78896a",
   "metadata": {},
   "outputs": [
    {
     "data": {
      "text/plain": [
       "True"
      ]
     },
     "execution_count": 16,
     "metadata": {},
     "output_type": "execute_result"
    }
   ],
   "source": [
    "load_dotenv(override=True)"
   ]
  },
  {
   "cell_type": "code",
   "execution_count": 5,
   "id": "ad1d7c4c",
   "metadata": {},
   "outputs": [],
   "source": [
    "openai_api_key = os.getenv(\"OPENAI_API_KEY\")"
   ]
  },
  {
   "cell_type": "code",
   "execution_count": 6,
   "id": "352af439",
   "metadata": {},
   "outputs": [
    {
     "name": "stdout",
     "output_type": "stream",
     "text": [
      "OPENAI_API_KEY is set : sk-pro...\n"
     ]
    }
   ],
   "source": [
    "if openai_api_key:\n",
    "    print(f\"OPENAI_API_KEY is set : {openai_api_key[:6]}...\")\n",
    "else:\n",
    "    print(\"OPENAI_API_KEY is not set\")"
   ]
  },
  {
   "cell_type": "code",
   "execution_count": 8,
   "id": "dd02b49b",
   "metadata": {},
   "outputs": [],
   "source": [
    "openai = OpenAI()"
   ]
  },
  {
   "cell_type": "code",
   "execution_count": 11,
   "id": "28000890",
   "metadata": {},
   "outputs": [],
   "source": [
    "messages = [{\"role\": \"user\", \"content\": \"what are the potential area of business that values agentic ai\"}]\n",
    "\n",
    "response = openai.chat.completions.create(\n",
    "    model=\"gpt-4o-mini\",\n",
    "    messages=messages,\n",
    "    max_tokens=1000\n",
    ")"
   ]
  },
  {
   "cell_type": "code",
   "execution_count": 12,
   "id": "136c6934",
   "metadata": {},
   "outputs": [
    {
     "data": {
      "text/markdown": [
       "Agentic AI refers to artificial intelligence systems that possess a degree of autonomy, decision-making capabilities, and adaptability. These systems can carry out tasks independently, respond to changing environments, and interact with users and other systems in thoughtful ways. Here are several potential areas of business that could benefit from the implementation of agentic AI:\n",
       "\n",
       "1. **Healthcare**:\n",
       "   - **Personalized Medicine**: Tailoring treatment plans based on individual patient data and responses.\n",
       "   - **Remote Patient Monitoring**: Autonomous systems that monitor patient health metrics and alert healthcare providers when intervention is needed.\n",
       "   - **Medical Diagnostics**: AI systems that analyze medical images or patient histories to assist or make independent diagnostic decisions.\n",
       "\n",
       "2. **Finance**:\n",
       "   - **Automated Trading**: Systems that analyze market data and execute trades based on predefined algorithms and market conditions.\n",
       "   - **Fraud Detection**: AI that learns from transaction patterns to identify anomalies and flag potential fraudulent activities.\n",
       "   - **Personal Financial Advisors**: AI-driven platforms that provide personalized financial advice and investment management.\n",
       "\n",
       "3. **Manufacturing**:\n",
       "   - **Smart Robotics**: Autonomous robots that optimize assembly line processes, adapt to changes in production needs, and maintain themselves.\n",
       "   - **Predictive Maintenance**: AI systems that predict equipment failures and suggest maintenance schedules, reducing downtime and costs.\n",
       "\n",
       "4. **Transportation and Logistics**:\n",
       "   - **Autonomous Vehicles**: Self-driving cars, trucks, and drones that can navigate environments and transport goods or people.\n",
       "   - **Supply Chain Optimization**: AI that dynamically adjusts logistics based on demand fluctuations, weather conditions, and other variables.\n",
       "\n",
       "5. **Customer Service**:\n",
       "   - **AI Chatbots and Virtual Assistants**: Systems that handle customer inquiries, troubleshoot issues, and provide personalized recommendations autonomously.\n",
       "   - **Sentiment Analysis**: Tools that understand and respond to customer emotions based on their interactions.\n",
       "\n",
       "6. **Retail**:\n",
       "   - **Dynamic Pricing**: AI systems that adjust product prices in real-time based on demand, competition, and market trends.\n",
       "   - **Inventory Management**: Autonomous systems that monitor stock levels and reorder products as necessary, optimizing inventory costs.\n",
       "\n",
       "7. **Energy**:\n",
       "   - **Smart Grids**: AI-driven energy management systems that adjust supply and demand in real-time for efficient energy distribution.\n",
       "   - **Predictive Analytics for Renewable Energy**: Systems that optimize the use of renewable resources based on weather predictions and consumption patterns.\n",
       "\n",
       "8. **Education**:\n",
       "   - **Personalized Learning**: AI systems that adapt educational content to individual student needs and learning styles.\n",
       "   - **Assessment and Feedback**: AI that evaluates student performance and provides constructive feedback or resources autonomously.\n",
       "\n",
       "9. **Marketing and Advertising**:\n",
       "   - **Targeted Advertising**: AI that autonomously creates and places ads based on user behavior and preferences.\n",
       "   - **Customer Insights**: Systems that analyze market data to uncover trends and optimize marketing strategies.\n",
       "\n",
       "10. **Real Estate**:\n",
       "    - **Property Valuation**: AI systems that autonomously analyze market data to provide accurate property valuations and investment opportunities.\n",
       "    - **Virtual Tours and Showings**: AI-driven platforms that create immersive experiences for potential buyers, adapting to user preferences.\n",
       "\n",
       "11. **Legal Services**:\n",
       "    - **Document Review and Contract Analysis**: AI that autonomously reviews legal documents for compliance and flags potential issues.\n",
       "    - **Legal Research**: Systems that identify relevant case laws and precedents based on queries without human intervention.\n",
       "\n",
       "These areas represent just a few examples of where agentic AI could create significant value by enhancing efficiency, reducing costs, improving decision-making, and providing a better experience for users. The success of agentic AI applications will depend on ongoing advancements in AI technology and regulatory considerations as these systems become more integrated into various sectors."
      ],
      "text/plain": [
       "<IPython.core.display.Markdown object>"
      ]
     },
     "metadata": {},
     "output_type": "display_data"
    }
   ],
   "source": [
    "display(Markdown(response.choices[0].message.content))"
   ]
  },
  {
   "cell_type": "code",
   "execution_count": 13,
   "id": "1494cf01",
   "metadata": {},
   "outputs": [],
   "source": [
    "messages = [{\"role\": \"user\", \"content\": response.choices[0].message.content + \" given that domain of businesses choose easiest way to implement agentic ai and find a pain point that really require an agentic solution and propose the solution only mention the selected field only pain point and solution provide after that\"}]"
   ]
  },
  {
   "cell_type": "code",
   "execution_count": 14,
   "id": "4a9cd3e6",
   "metadata": {},
   "outputs": [],
   "source": [
    "response = openai.chat.completions.create(\n",
    "    model=\"gpt-4o-mini\",\n",
    "    messages=messages,\n",
    "    max_tokens=1000\n",
    ")\n"
   ]
  },
  {
   "cell_type": "code",
   "execution_count": 15,
   "id": "e7b653c3",
   "metadata": {},
   "outputs": [
    {
     "data": {
      "text/markdown": [
       "### Selected Field: **Customer Service**\n",
       "\n",
       "**Pain Point**: High volume of customer inquiries leading to long wait times and decreased satisfaction.\n",
       "\n",
       "**Proposed Solution**: Implement an AI-driven virtual assistant that autonomously handles a significant portion of customer inquiries. This agentic AI system can analyze incoming requests, provide instant responses to common questions, troubleshoot issues, and escalate complex cases to human agents when necessary. By utilizing natural language processing and machine learning to adapt over time, the virtual assistant can improve its responses and gain insights into customer behavior, thereby enhancing customer satisfaction and reducing response times."
      ],
      "text/plain": [
       "<IPython.core.display.Markdown object>"
      ]
     },
     "metadata": {},
     "output_type": "display_data"
    }
   ],
   "source": [
    "display(Markdown(response.choices[0].message.content))"
   ]
  }
 ],
 "metadata": {
  "kernelspec": {
   "display_name": ".venv",
   "language": "python",
   "name": "python3"
  },
  "language_info": {
   "codemirror_mode": {
    "name": "ipython",
    "version": 3
   },
   "file_extension": ".py",
   "mimetype": "text/x-python",
   "name": "python",
   "nbconvert_exporter": "python",
   "pygments_lexer": "ipython3",
   "version": "3.13.7"
  }
 },
 "nbformat": 4,
 "nbformat_minor": 5
}
